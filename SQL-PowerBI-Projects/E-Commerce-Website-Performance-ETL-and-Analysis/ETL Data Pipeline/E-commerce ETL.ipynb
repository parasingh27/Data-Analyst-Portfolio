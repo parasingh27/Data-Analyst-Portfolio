{
 "cells": [
  {
   "cell_type": "code",
   "execution_count": 1,
   "metadata": {},
   "outputs": [],
   "source": [
    "import pandas as pd\n",
    "import logging\n",
    "import sys\n",
    "import os\n",
    "from sqlalchemy import create_engine"
   ]
  },
  {
   "cell_type": "code",
   "execution_count": 20,
   "metadata": {},
   "outputs": [],
   "source": [
    "db_host=\"localhost\",\n",
    "db_user=\"root\",       \n",
    "db_password=\"password\",\n",
    "db_name=\"e-commerce\"\n",
    "\n",
    "\n",
    "engine = create_engine(f\"mysql+mysqlconnector://{db_user}:{db_password}@{db_host}/{db_name}\")"
   ]
  },
  {
   "cell_type": "code",
   "execution_count": null,
   "metadata": {},
   "outputs": [],
   "source": [
    "logging.basicConfig(\n",
    "    filename='etl_log.log', \n",
    "    level=logging.INFO,\n",
    "    format='%(asctime)s - %(levelname)s - %(message)s'\n",
    ")"
   ]
  },
  {
   "cell_type": "code",
   "execution_count": null,
   "metadata": {},
   "outputs": [],
   "source": [
    "def extract_data(csv_files, json_files):\n",
    "    csv_data = {} \n",
    "    json_data = {}\n",
    "\n",
    "    # CSV files\n",
    "    for file in csv_files:\n",
    "        table_name = file.split('.')[0]\n",
    "        csv_data[table_name] = pd.read_csv(file)\n",
    "\n",
    "    # JSON files\n",
    "    for file in json_files:\n",
    "        table_name = file.split('.')[0]\n",
    "        json_data[table_name] = pd.read_json(file)\n",
    "\n",
    "    return csv_data, json_data\n"
   ]
  },
  {
   "cell_type": "code",
   "execution_count": null,
   "metadata": {},
   "outputs": [],
   "source": [
    "def load_data(df_csv, df_json):\n",
    "    try:\n",
    "        with engine.connect() as conn:\n",
    "            for table_name, df in {**df_csv, **df_json}.items():\n",
    "                df.to_sql(table_name, conn, if_exists=\"replace\", index=False)\n",
    "                logging.info(f\"✅ Loaded {table_name} into database.\")\n",
    "    except Exception as e:\n",
    "        logging.error(f\"❌ Error loading data: {e}\")"
   ]
  },
  {
   "cell_type": "code",
   "execution_count": null,
   "metadata": {},
   "outputs": [],
   "source": [
    "def main():\n",
    "    logging.info(\"ETL process started.\")\n",
    "\n",
    "    csv_files = [\"orders.csv\", \"order_items.csv\", \"website_pageviews.csv\", \"website_sessions.csv\"]\n",
    "    json_files = [\"order_item_refunds.json\", \"products.json\"]\n",
    "\n",
    "    df_csv, df_json = extract_data(csv_files, json_files)\n",
    "    load_data(df_csv, df_json)\n",
    "\n",
    "    logging.info(\"ETL process completed successfully.\")\n",
    "\n",
    "if __name__ == \"__main__\":\n",
    "    main()"
   ]
  },
  {
   "cell_type": "code",
   "execution_count": null,
   "metadata": {},
   "outputs": [],
   "source": [
    "if __name__ == \"__main__\":\n",
    "    main()"
   ]
  }
 ],
 "metadata": {
  "kernelspec": {
   "display_name": "Python 3",
   "language": "python",
   "name": "python3"
  },
  "language_info": {
   "codemirror_mode": {
    "name": "ipython",
    "version": 3
   },
   "file_extension": ".py",
   "mimetype": "text/x-python",
   "name": "python",
   "nbconvert_exporter": "python",
   "pygments_lexer": "ipython3",
   "version": "3.11.9"
  }
 },
 "nbformat": 4,
 "nbformat_minor": 2
}
